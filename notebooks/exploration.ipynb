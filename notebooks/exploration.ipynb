{
 "cells": [
  {
   "cell_type": "markdown",
   "id": "02308a6f",
   "metadata": {},
   "source": [
    "# Initial Data Exploration"
   ]
  },
  {
   "cell_type": "code",
   "execution_count": 7,
   "id": "4c99362b",
   "metadata": {},
   "outputs": [
    {
     "name": "stdout",
     "output_type": "stream",
     "text": [
      "Could not load Annotation.csv: No columns to parse from file\n",
      "Loaded Accelerometer.csv with shape (9950, 5)\n",
      "Loaded AccelerometerUncalibrated.csv with shape (9951, 5)\n",
      "Loaded Gravity.csv with shape (9950, 5)\n",
      "Loaded Gyroscope.csv with shape (9950, 5)\n",
      "Loaded GyroscopeUncalibrated.csv with shape (9951, 5)\n",
      "Loaded Metadata.csv with shape (1, 11)\n"
     ]
    }
   ],
   "source": [
    "import os\n",
    "import pandas as pd\n",
    "\n",
    "# Load raw data from CSV files specified in the directory structure\n",
    "def load_data():\n",
    "    home = os.path.expanduser(\"~\")\n",
    "    data_dir = os.path.join(\n",
    "        home,\n",
    "        \"Documents\",\n",
    "        \"data analytics\",\n",
    "        \"Data-Analytics-and-Learning-Methods\",\n",
    "        \"data\",\n",
    "        \"raw\"\n",
    "    )\n",
    "    \n",
    "    data = {}\n",
    "    for file_name in os.listdir(data_dir):\n",
    "        if file_name.endswith(\".csv\"):\n",
    "            file_path = os.path.join(data_dir, file_name)\n",
    "            try:\n",
    "                df = pd.read_csv(file_path, skipinitialspace=True)  # handles spaces\n",
    "                if df.empty:\n",
    "                    print(f\"Skipping {file_name}: empty file\")\n",
    "                    continue\n",
    "                df.columns = df.columns.str.strip()  # clean headers\n",
    "                data[file_name] = df\n",
    "            except Exception as e:\n",
    "                print(f\"Could not load {file_name}: {e}\")\n",
    "    return data\n",
    "\n",
    "if __name__ == \"__main__\":\n",
    "    datasets = load_data()\n",
    "    for name, df in datasets.items():\n",
    "        print(f\"Loaded {name} with shape {df.shape}\")"
   ]
  },
  {
   "cell_type": "code",
   "execution_count": null,
   "id": "5d3a3338",
   "metadata": {},
   "outputs": [],
   "source": []
  }
 ],
 "metadata": {
  "kernelspec": {
   "display_name": "base",
   "language": "python",
   "name": "python3"
  },
  "language_info": {
   "codemirror_mode": {
    "name": "ipython",
    "version": 3
   },
   "file_extension": ".py",
   "mimetype": "text/x-python",
   "name": "python",
   "nbconvert_exporter": "python",
   "pygments_lexer": "ipython3",
   "version": "3.11.5"
  }
 },
 "nbformat": 4,
 "nbformat_minor": 5
}
